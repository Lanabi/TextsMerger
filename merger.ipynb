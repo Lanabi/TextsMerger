{
 "cells": [
  {
   "cell_type": "code",
   "execution_count": 1,
   "metadata": {},
   "outputs": [
    {
     "name": "stdout",
     "output_type": "stream",
     "text": [
      "oops\n",
      "/Users/lanabi/Desktop/NarodnaSkupstina/merger.ipynb\n"
     ]
    }
   ],
   "source": [
    "import pandas as pd\n",
    "import numpy as np\n",
    "pd.set_option('display.max_rows', 5000)\n",
    "import feather\n",
    "import docx2txt\n",
    "\n",
    "path = !pwd\n",
    "cts = !ls\n",
    "\n",
    "df= pd.DataFrame(columns = ['name','text'])\n",
    "\n",
    "for i in range(len(cts)):\n",
    "    name  = path[0]+'/'+ cts[i]\n",
    "    try:\n",
    "        text = docx2txt.process(name)\n",
    "        df1 = pd.DataFrame({'name': [name], 'text': [text]})                       \n",
    "        df = pd.concat([df,df1], join = 'inner')\n",
    "    except:\n",
    "        print('oops')\n",
    "        print(name)\n",
    "\n",
    "df.reset_index(inplace = True)\n",
    "df = df[['name','text']]\n",
    "fname = path[0]+'/'+ 'dat.feather'\n",
    "#dat = feather.read_dataframe(fname)"
   ]
  }
 ],
 "metadata": {
  "kernelspec": {
   "display_name": "Python 3",
   "language": "python",
   "name": "python3"
  },
  "language_info": {
   "codemirror_mode": {
    "name": "ipython",
    "version": 3
   },
   "file_extension": ".py",
   "mimetype": "text/x-python",
   "name": "python",
   "nbconvert_exporter": "python",
   "pygments_lexer": "ipython3",
   "version": "3.7.1"
  }
 },
 "nbformat": 4,
 "nbformat_minor": 2
}
